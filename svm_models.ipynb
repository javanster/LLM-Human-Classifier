{
 "cells": [
  {
   "cell_type": "code",
   "execution_count": 17,
   "metadata": {},
   "outputs": [],
   "source": [
    "from sklearn.svm import SVC, LinearSVC\n",
    "from sklearn.metrics import f1_score, accuracy_score, recall_score, precision_score\n",
    "from sklearn.pipeline import Pipeline\n",
    "from sklearn.feature_extraction.text import TfidfVectorizer\n",
    "import pandas as pd\n",
    "import shap\n"
   ]
  },
  {
   "cell_type": "code",
   "execution_count": 18,
   "metadata": {},
   "outputs": [
    {
     "name": "stdout",
     "output_type": "stream",
     "text": [
      "   Unnamed: 0                                             tokens  label\n",
      "0           0  phones modern humans today are always on their...      0\n",
      "1           1  this essay will explain if drivers should or s...      0\n",
      "2           2  driving while the use of cellular devices toda...      0\n",
      "3           3  phones & driving drivers should not be able to...      0\n",
      "4           4  cell phone operation while driving the ability...      0\n"
     ]
    }
   ],
   "source": [
    "train_data = pd.read_csv(\"data/baseline_processed_train_data.csv\")\n",
    "pretest_data = pd.read_csv(\"data/baseline_processed_pretest_data.csv\")\n",
    "test_data = pd.read_csv(\"data/baseline_processed_test_data.csv\")\n",
    "\n",
    "print(test_data.head())\n",
    "\n",
    "sample_size = 10000\n",
    "\n",
    "train_data = train_data.sample(n=sample_size, random_state=42)\n",
    "pretest_data = pretest_data.sample(n=sample_size, random_state=42)\n",
    "sampltest_dataed_test_data = test_data.sample(n=sample_size, random_state=42)\n",
    "\n"
   ]
  },
  {
   "cell_type": "code",
   "execution_count": 19,
   "metadata": {},
   "outputs": [
    {
     "name": "stderr",
     "output_type": "stream",
     "text": [
      "/opt/homebrew/lib/python3.11/site-packages/sklearn/svm/_classes.py:31: FutureWarning: The default value of `dual` will change from `True` to `'auto'` in 1.5. Set the value of `dual` explicitly to suppress the warning.\n",
      "  warnings.warn(\n"
     ]
    },
    {
     "name": "stdout",
     "output_type": "stream",
     "text": [
      "F1 score on training data: 0.9722431549861844\n",
      "F1 score on pretest data: 0.8959990136243141\n",
      "F1 score on test data: 0.8596628446855602\n",
      "Accuracy on test data: 0.7902343167006617\n",
      "Recall on test data: 0.9887077017302097\n",
      "Precision on test data: 0.7604145199752701\n"
     ]
    }
   ],
   "source": [
    "# Faster linear SVM, works with a lot of data\n",
    "\n",
    "fast_linear_svm_classifier = LinearSVC()\n",
    "\n",
    "def get_text(row):\n",
    "    return row['tokens']\n",
    "\n",
    "X_train = train_data.apply(get_text, axis=1)\n",
    "y_train = train_data['label']\n",
    "X_pretest = pretest_data.apply(get_text, axis=1)\n",
    "y_pretest = pretest_data['label']\n",
    "X_test = test_data.apply(get_text, axis=1)\n",
    "y_test = test_data['label']\n",
    "\n",
    "pipeline = Pipeline([\n",
    "    ('tfidf', TfidfVectorizer()),  \n",
    "    ('svm', fast_linear_svm_classifier),      \n",
    "])\n",
    "\n",
    "\n",
    "pipeline.fit(X_train, y_train)\n",
    "\n",
    "y_train_pred = pipeline.predict(X_train)\n",
    "\n",
    "y_pretest_pred = pipeline.predict(X_pretest)\n",
    "\n",
    "y_test_pred = pipeline.predict(X_test)\n",
    "\n",
    "train_f1_score = f1_score(y_train, y_train_pred)\n",
    "\n",
    "pretest_f1_score = f1_score(y_pretest, y_pretest_pred)\n",
    "\n",
    "test_f1_score = f1_score(y_test, y_test_pred)\n",
    "test_accuracy = accuracy_score(y_test, y_test_pred)\n",
    "test_recall = recall_score(y_test, y_test_pred)\n",
    "test_precision = precision_score(y_test, y_test_pred)\n",
    "\n",
    "print(\"F1 score on training data:\", train_f1_score)\n",
    "print(\"F1 score on pretest data:\", pretest_f1_score)\n",
    "print(\"F1 score on test data:\", test_f1_score)\n",
    "print(\"Accuracy on test data:\", test_accuracy)\n",
    "print(\"Recall on test data:\", test_recall)\n",
    "print(\"Precision on test data:\", test_precision)"
   ]
  },
  {
   "cell_type": "code",
   "execution_count": 13,
   "metadata": {},
   "outputs": [],
   "source": [
    "# Linear SVM\n",
    "# Will need to use smaller dataset!!\n",
    "\n",
    "linear_svm_classifier = SVC(kernel='linear')\n",
    "\n"
   ]
  },
  {
   "cell_type": "code",
   "execution_count": 14,
   "metadata": {},
   "outputs": [],
   "source": [
    "# Polynimial SVM\n",
    "# Will need to use smaller dataset!!\n",
    "\n",
    "polynomial_svm_classifier = SVC(kernel='poly', degree=3)"
   ]
  },
  {
   "cell_type": "code",
   "execution_count": 15,
   "metadata": {},
   "outputs": [],
   "source": [
    "# Radial Basis Function SVM\n",
    "# Will need to use smaller dataset!!\n",
    "\n",
    "rbf_svm_classifier = SVC(kernel='rbf')"
   ]
  },
  {
   "cell_type": "code",
   "execution_count": 16,
   "metadata": {},
   "outputs": [],
   "source": [
    "# Sigmoid SVM\n",
    "# Will need to use smaller dataset!!\n",
    "\n",
    "sigmoid_svm_classifier = SVC(kernel='sigmoid')"
   ]
  },
  {
   "cell_type": "code",
   "execution_count": 17,
   "metadata": {},
   "outputs": [
    {
     "name": "stderr",
     "output_type": "stream",
     "text": [
      "  0%|          | 0/1000 [00:00<?, ?it/s]"
     ]
    }
   ],
   "source": [
    "# SHAP explenations for fast linear SVM\n",
    "fast_linear_svm_explainer = shap.KernelExplainer(fast_linear_svm_classifier.predict,  \"\"\" Input training data? \"\"\")\n"
   ]
  },
  {
   "cell_type": "code",
   "execution_count": null,
   "metadata": {},
   "outputs": [],
   "source": [
    "# SHAP explenations for linear SVM\n",
    "\n",
    "linear_svm_explainer = shap.Explainer(linear_svm_classifier, \"\"\" Input training data? \"\"\")"
   ]
  },
  {
   "cell_type": "code",
   "execution_count": null,
   "metadata": {},
   "outputs": [],
   "source": [
    "# SHAP explenations for polynomial SVM\n",
    "\n",
    "polynomial_svm_explainer = shap.Explainer(polynomial_svm_classifier, \"\"\" Input training data? \"\"\")"
   ]
  },
  {
   "cell_type": "code",
   "execution_count": null,
   "metadata": {},
   "outputs": [],
   "source": [
    "# SHAP explenations for rbf SVM\n",
    "\n",
    "rbf_svm_explainer = shap.Explainer(rbf_svm_classifier, \"\"\" Input training data? \"\"\")"
   ]
  },
  {
   "cell_type": "code",
   "execution_count": null,
   "metadata": {},
   "outputs": [],
   "source": [
    "# SHAP explenations for sigmoid SVM\n",
    "\n",
    "sigmoid_svm_explainer = shap.Explainer(sigmoid_svm_classifier, \"\"\" Input training data? \"\"\")"
   ]
  }
 ],
 "metadata": {
  "kernelspec": {
   "display_name": "Python 3",
   "language": "python",
   "name": "python3"
  },
  "language_info": {
   "codemirror_mode": {
    "name": "ipython",
    "version": 3
   },
   "file_extension": ".py",
   "mimetype": "text/x-python",
   "name": "python",
   "nbconvert_exporter": "python",
   "pygments_lexer": "ipython3",
   "version": "3.11.7"
  }
 },
 "nbformat": 4,
 "nbformat_minor": 2
}
