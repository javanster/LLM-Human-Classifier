{
 "cells": [
  {
   "cell_type": "code",
   "execution_count": 27,
   "metadata": {},
   "outputs": [],
   "source": [
    "from sklearn.svm import SVC, LinearSVC\n",
    "from sklearn.metrics import f1_score\n",
    "from sklearn.pipeline import Pipeline\n",
    "from sklearn.feature_extraction.text import TfidfVectorizer\n",
    "import pandas as pd\n",
    "import numpy as np\n",
    "import shap\n",
    "from scipy.sparse import load_npz\n",
    "from scipy.sparse import csr_matrix\n",
    "from scipy.sparse import hstack\n"
   ]
  },
  {
   "cell_type": "code",
   "execution_count": 28,
   "metadata": {},
   "outputs": [
    {
     "name": "stdout",
     "output_type": "stream",
     "text": [
      "(1679, 17472)\n",
      "(1679,)\n",
      "[1 1 1 1 1 1 1 1 1 0 0 1 1 1 1 1 1 0 0 1]\n"
     ]
    }
   ],
   "source": [
    "# Change these sources later!!\n",
    "train_data_x_sparse = load_npz('valid_data_x_sparse.npz')\n",
    "train_data_x_dense = pd.read_csv('valid_data_x_dense.csv')\n",
    "\n",
    "# Combine the loaded sparse matrix with the additional features\n",
    "train_data_x = pd.DataFrame(hstack([train_data_x_sparse, csr_matrix(train_data_x_dense.values)]).toarray())\n",
    "train_data_y = np.ravel(pd.read_csv('valid_data_y.csv'))\n",
    "\n",
    "print(train_data_x.shape)\n",
    "print(train_data_y.shape)\n",
    "print(train_data_y[:20])\n",
    "\n"
   ]
  },
  {
   "cell_type": "code",
   "execution_count": 35,
   "metadata": {},
   "outputs": [
    {
     "name": "stdout",
     "output_type": "stream",
     "text": [
      "F1 score on training data: 0.9931818181818182\n"
     ]
    }
   ],
   "source": [
    "# Faster linear SVM, works with a lot of data\n",
    "\n",
    "fast_linear_svm_classifier = LinearSVC(dual=\"auto\")\n",
    "\n",
    "fast_linear_svm_classifier.fit(train_data_x, train_data_y)\n",
    "\n",
    "train_data_y_pred = fast_linear_svm_classifier.predict(train_data_x)\n",
    "train_f1_score = f1_score(train_data_y, train_data_y_pred)\n",
    "print(\"F1 score on training data:\", train_f1_score)\n"
   ]
  },
  {
   "cell_type": "code",
   "execution_count": 31,
   "metadata": {},
   "outputs": [
    {
     "name": "stdout",
     "output_type": "stream",
     "text": [
      "F1 score on training data: 0.9223198594024604\n"
     ]
    }
   ],
   "source": [
    "# Linear SVM\n",
    "# Will need to use smaller dataset!!\n",
    "\n",
    "linear_svm_classifier = SVC(kernel='linear')\n",
    "\n",
    "linear_svm_classifier.fit(train_data_x, train_data_y)\n",
    "\n",
    "train_data_y_pred = linear_svm_classifier.predict(train_data_x)\n",
    "train_f1_score = f1_score(train_data_y, train_data_y_pred)\n",
    "print(\"F1 score on training data:\", train_f1_score)"
   ]
  },
  {
   "cell_type": "code",
   "execution_count": 32,
   "metadata": {},
   "outputs": [
    {
     "name": "stdout",
     "output_type": "stream",
     "text": [
      "F1 score on training data: 0.8790619765494138\n"
     ]
    }
   ],
   "source": [
    "# Polynimial SVM\n",
    "# Will need to use smaller dataset!!\n",
    "\n",
    "polynomial_svm_classifier = SVC(kernel='poly', degree=3)\n",
    "\n",
    "polynomial_svm_classifier.fit(train_data_x, train_data_y)\n",
    "\n",
    "train_data_y_pred = polynomial_svm_classifier.predict(train_data_x)\n",
    "train_f1_score = f1_score(train_data_y, train_data_y_pred)\n",
    "print(\"F1 score on training data:\", train_f1_score)"
   ]
  },
  {
   "cell_type": "code",
   "execution_count": 33,
   "metadata": {},
   "outputs": [
    {
     "name": "stdout",
     "output_type": "stream",
     "text": [
      "F1 score on training data: 0.8772985623537278\n"
     ]
    }
   ],
   "source": [
    "# Radial Basis Function SVM\n",
    "# Will need to use smaller dataset!!\n",
    "\n",
    "rbf_svm_classifier = SVC(kernel='rbf')\n",
    "\n",
    "rbf_svm_classifier.fit(train_data_x, train_data_y)\n",
    "\n",
    "train_data_y_pred = rbf_svm_classifier.predict(train_data_x)\n",
    "train_f1_score = f1_score(train_data_y, train_data_y_pred)\n",
    "print(\"F1 score on training data:\", train_f1_score)"
   ]
  },
  {
   "cell_type": "code",
   "execution_count": 34,
   "metadata": {},
   "outputs": [
    {
     "name": "stdout",
     "output_type": "stream",
     "text": [
      "F1 score on training data: 0.8772985623537278\n"
     ]
    }
   ],
   "source": [
    "# Sigmoid SVM\n",
    "# Will need to use smaller dataset!!\n",
    "\n",
    "sigmoid_svm_classifier = SVC(kernel='sigmoid')\n",
    "\n",
    "sigmoid_svm_classifier.fit(train_data_x, train_data_y)\n",
    "\n",
    "train_data_y_pred = sigmoid_svm_classifier.predict(train_data_x)\n",
    "train_f1_score = f1_score(train_data_y, train_data_y_pred)\n",
    "print(\"F1 score on training data:\", train_f1_score)"
   ]
  },
  {
   "cell_type": "code",
   "execution_count": null,
   "metadata": {},
   "outputs": [],
   "source": [
    "# SHAP explenations for fast linear SVM\n",
    "fast_linear_svm_explainer = shap.KernelExplainer(fast_linear_svm_classifier.predict,  \"\"\" Input training data? \"\"\")\n"
   ]
  },
  {
   "cell_type": "code",
   "execution_count": null,
   "metadata": {},
   "outputs": [],
   "source": [
    "# SHAP explenations for linear SVM\n",
    "\n",
    "linear_svm_explainer = shap.Explainer(linear_svm_classifier, \"\"\" Input training data? \"\"\")"
   ]
  },
  {
   "cell_type": "code",
   "execution_count": null,
   "metadata": {},
   "outputs": [],
   "source": [
    "# SHAP explenations for polynomial SVM\n",
    "\n",
    "polynomial_svm_explainer = shap.Explainer(polynomial_svm_classifier, \"\"\" Input training data? \"\"\")"
   ]
  },
  {
   "cell_type": "code",
   "execution_count": null,
   "metadata": {},
   "outputs": [],
   "source": [
    "# SHAP explenations for rbf SVM\n",
    "\n",
    "rbf_svm_explainer = shap.Explainer(rbf_svm_classifier, \"\"\" Input training data? \"\"\")"
   ]
  },
  {
   "cell_type": "code",
   "execution_count": null,
   "metadata": {},
   "outputs": [],
   "source": [
    "# SHAP explenations for sigmoid SVM\n",
    "\n",
    "sigmoid_svm_explainer = shap.Explainer(sigmoid_svm_classifier, \"\"\" Input training data? \"\"\")"
   ]
  }
 ],
 "metadata": {
  "kernelspec": {
   "display_name": "Python 3",
   "language": "python",
   "name": "python3"
  },
  "language_info": {
   "codemirror_mode": {
    "name": "ipython",
    "version": 3
   },
   "file_extension": ".py",
   "mimetype": "text/x-python",
   "name": "python",
   "nbconvert_exporter": "python",
   "pygments_lexer": "ipython3",
   "version": "3.11.7"
  }
 },
 "nbformat": 4,
 "nbformat_minor": 2
}
