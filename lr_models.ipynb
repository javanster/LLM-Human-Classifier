{
 "cells": [
  {
   "cell_type": "code",
   "execution_count": 35,
   "metadata": {},
   "outputs": [],
   "source": [
    "from sklearn.linear_model import LogisticRegression\n",
    "from sklearn.metrics import f1_score\n",
    "import pandas as pd\n",
    "import numpy as np\n",
    "from scipy.sparse import load_npz\n",
    "from scipy.sparse import csr_matrix\n",
    "from scipy.sparse import hstack"
   ]
  },
  {
   "cell_type": "code",
   "execution_count": 52,
   "metadata": {},
   "outputs": [
    {
     "name": "stdout",
     "output_type": "stream",
     "text": [
      "(1679, 17468)\n",
      "(1679,)\n",
      "[1 1 1 1 1 1 1 1 1 0 0 1 1 1 1 1 1 0 0 1]\n"
     ]
    }
   ],
   "source": [
    "# Change these sources later!!\n",
    "train_data_x_sparse = load_npz('valid_data_x_sparse.npz')\n",
    "train_data_x_dense = pd.read_csv('valid_data_x_dense.csv')\n",
    "\n",
    "# Combine the loaded sparse matrix with the additional features\n",
    "train_data_x = pd.DataFrame(hstack([train_data_x_sparse, csr_matrix(train_data_x_dense.values)]).toarray())\n",
    "train_data_y = np.ravel(pd.read_csv('valid_data_y.csv'))\n",
    "\n",
    "print(train_data_x.shape)\n",
    "print(train_data_y.shape)\n",
    "print(train_data_y[:20])"
   ]
  },
  {
   "cell_type": "code",
   "execution_count": 56,
   "metadata": {},
   "outputs": [
    {
     "name": "stdout",
     "output_type": "stream",
     "text": [
      "F1 score on training data: 0.8859560067681895\n"
     ]
    }
   ],
   "source": [
    "# Regularized logistic regression (ridge) (standard)\n",
    "\n",
    "standard_lr_model = LogisticRegression(max_iter=500) # Increase max_iter to allow for convergence\n",
    "\n",
    "standard_lr_model.fit(train_data_x, train_data_y)\n",
    "\n",
    "train_data_y_pred = standard_lr_model.predict(train_data_x)\n",
    "train_f1_score = f1_score(train_data_y, train_data_y_pred)\n",
    "print(\"F1 score on training data:\", train_f1_score)\n"
   ]
  },
  {
   "cell_type": "code",
   "execution_count": 57,
   "metadata": {},
   "outputs": [
    {
     "name": "stdout",
     "output_type": "stream",
     "text": [
      "F1 score on training data: 0.8760553866936845\n"
     ]
    }
   ],
   "source": [
    "# Regularized logistic regression (lasso)\n",
    "\n",
    "lasso_lr_model = LogisticRegression(penalty='l1', solver='liblinear')\n",
    "\n",
    "lasso_lr_model.fit(train_data_x, train_data_y)\n",
    "\n",
    "train_data_y_pred = lasso_lr_model.predict(train_data_x)\n",
    "train_f1_score = f1_score(train_data_y, train_data_y_pred)\n",
    "print(\"F1 score on training data:\", train_f1_score)\n"
   ]
  },
  {
   "cell_type": "code",
   "execution_count": 68,
   "metadata": {},
   "outputs": [
    {
     "name": "stdout",
     "output_type": "stream",
     "text": [
      "F1 score on training data: 0.8772985623537278\n"
     ]
    },
    {
     "name": "stderr",
     "output_type": "stream",
     "text": [
      "/opt/homebrew/lib/python3.11/site-packages/sklearn/linear_model/_sag.py:350: ConvergenceWarning: The max_iter was reached which means the coef_ did not converge\n",
      "  warnings.warn(\n"
     ]
    }
   ],
   "source": [
    "# Regularized logistic regression (elastic net)\n",
    "\n",
    "elastic_net_lr_model = LogisticRegression(penalty='elasticnet', solver='saga', l1_ratio=0.5, max_iter=500)\n",
    "\n",
    "elastic_net_lr_model.fit(train_data_x, train_data_y)\n",
    "\n",
    "train_data_y_pred = elastic_net_lr_model.predict(train_data_x)\n",
    "train_f1_score = f1_score(train_data_y, train_data_y_pred)\n",
    "print(\"F1 score on training data:\", train_f1_score)"
   ]
  },
  {
   "cell_type": "code",
   "execution_count": null,
   "metadata": {},
   "outputs": [],
   "source": [
    "# max_iter = 500:\n",
    "# F1 score on training data: 0.8772985623537278\n",
    "\n",
    "# max_iter = 2000:\n",
    "# F1 score on training data: 0.8772985623537278\n",
    "\n",
    "# max_iter = 4000:\n",
    "# F1 score on training data: 0.8772985623537278\n",
    "\n",
    "# max_iter = 6000:\n",
    "# F1 score on training data: 0.8772985623537278\n"
   ]
  }
 ],
 "metadata": {
  "kernelspec": {
   "display_name": "Python 3",
   "language": "python",
   "name": "python3"
  },
  "language_info": {
   "codemirror_mode": {
    "name": "ipython",
    "version": 3
   },
   "file_extension": ".py",
   "mimetype": "text/x-python",
   "name": "python",
   "nbconvert_exporter": "python",
   "pygments_lexer": "ipython3",
   "version": "3.11.7"
  }
 },
 "nbformat": 4,
 "nbformat_minor": 2
}
