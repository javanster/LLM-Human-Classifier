{
 "cells": [
  {
   "cell_type": "code",
   "execution_count": 13,
   "metadata": {},
   "outputs": [],
   "source": [
    "from sklearn.linear_model import LogisticRegression\n",
    "from sklearn.feature_extraction.text import TfidfVectorizer\n",
    "from sklearn.pipeline import Pipeline\n",
    "from sklearn.metrics import f1_score\n",
    "import pandas as pd"
   ]
  },
  {
   "cell_type": "code",
   "execution_count": 14,
   "metadata": {},
   "outputs": [
    {
     "name": "stdout",
     "output_type": "stream",
     "text": [
      "   Unnamed: 0                                             tokens  label\n",
      "0           0  phones modern humans today are always on their...      0\n",
      "1           1  this essay will explain if drivers should or s...      0\n",
      "2           2  driving while the use of cellular devices toda...      0\n",
      "3           3  phones & driving drivers should not be able to...      0\n",
      "4           4  cell phone operation while driving the ability...      0\n"
     ]
    }
   ],
   "source": [
    "train_data = pd.read_csv(\"data/baseline_processed_train_data.csv\")\n",
    "pretest_data = pd.read_csv(\"data/baseline_processed_pretest_data.csv\")\n",
    "test_data = pd.read_csv(\"data/baseline_processed_test_data.csv\")\n",
    "\n",
    "print(test_data.head())\n",
    "\n",
    "sample_size = 10000\n",
    "\n",
    "train_data = train_data.sample(n=sample_size, random_state=42)\n",
    "pretest_data = pretest_data.sample(n=sample_size, random_state=42)\n",
    "sampltest_dataed_test_data = test_data.sample(n=sample_size, random_state=42)"
   ]
  },
  {
   "cell_type": "code",
   "execution_count": 15,
   "metadata": {},
   "outputs": [],
   "source": [
    "def get_text(row):\n",
    "    return row['tokens']\n",
    "\n",
    "X_train = train_data.apply(get_text, axis=1)\n",
    "y_train = train_data['label']\n",
    "X_pretest = pretest_data.apply(get_text, axis=1)\n",
    "y_pretest = pretest_data['label']\n",
    "X_test = test_data.apply(get_text, axis=1)\n",
    "y_test = test_data['label']"
   ]
  },
  {
   "cell_type": "code",
   "execution_count": 16,
   "metadata": {},
   "outputs": [
    {
     "name": "stdout",
     "output_type": "stream",
     "text": [
      "F1 score on training data: 0.8957587845368686\n",
      "F1 score on pretest data: 0.879761626548259\n",
      "F1 score on test data: 0.8178383885884474\n"
     ]
    }
   ],
   "source": [
    "# Standard logistic regression\n",
    "\n",
    "standard_lr_model = LogisticRegression()\n",
    "\n",
    "pipeline = Pipeline([\n",
    "    ('tfidf', TfidfVectorizer()),  \n",
    "    ('lr', standard_lr_model),      \n",
    "])\n",
    "\n",
    "pipeline.fit(X_train, y_train)\n",
    "y_train_pred = pipeline.predict(X_train)\n",
    "y_pretest_pred = pipeline.predict(X_pretest)\n",
    "y_test_pred = pipeline.predict(X_test)\n",
    "train_f1_score = f1_score(y_train, y_train_pred)\n",
    "pretest_f1_score = f1_score(y_pretest, y_pretest_pred)\n",
    "test_f1_score = f1_score(y_test, y_test_pred)\n",
    "\n",
    "print(\"F1 score on training data:\", train_f1_score)\n",
    "print(\"F1 score on pretest data:\", pretest_f1_score)\n",
    "print(\"F1 score on test data:\", test_f1_score)"
   ]
  },
  {
   "cell_type": "code",
   "execution_count": 17,
   "metadata": {},
   "outputs": [
    {
     "name": "stdout",
     "output_type": "stream",
     "text": [
      "F1 score on training data: 0.8855674366396881\n",
      "F1 score on pretest data: 0.8744230086400757\n",
      "F1 score on test data: 0.8226466360204098\n"
     ]
    }
   ],
   "source": [
    "# Regularized logistic regression (lasso)\n",
    "\n",
    "lasso_lr_model = LogisticRegression(penalty='l1', solver='liblinear')\n",
    "\n",
    "pipeline = Pipeline([\n",
    "    ('tfidf', TfidfVectorizer()),  \n",
    "    ('lr', lasso_lr_model),      \n",
    "])\n",
    "\n",
    "pipeline.fit(X_train, y_train)\n",
    "y_train_pred = pipeline.predict(X_train)\n",
    "y_pretest_pred = pipeline.predict(X_pretest)\n",
    "y_test_pred = pipeline.predict(X_test)\n",
    "train_f1_score = f1_score(y_train, y_train_pred)\n",
    "pretest_f1_score = f1_score(y_pretest, y_pretest_pred)\n",
    "test_f1_score = f1_score(y_test, y_test_pred)\n",
    "\n",
    "print(\"F1 score on training data:\", train_f1_score)\n",
    "print(\"F1 score on pretest data:\", pretest_f1_score)\n",
    "print(\"F1 score on test data:\", test_f1_score)"
   ]
  },
  {
   "cell_type": "code",
   "execution_count": 18,
   "metadata": {},
   "outputs": [
    {
     "name": "stdout",
     "output_type": "stream",
     "text": [
      "F1 score on training data: 0.8957587845368686\n",
      "F1 score on pretest data: 0.879761626548259\n",
      "F1 score on test data: 0.8178383885884474\n"
     ]
    }
   ],
   "source": [
    "# Regularized logistic regression (ridge)\n",
    "\n",
    "ridge_lr_model = LogisticRegression(penalty='l2')\n",
    "\n",
    "pipeline = Pipeline([\n",
    "    ('tfidf', TfidfVectorizer()),  \n",
    "    ('lr', ridge_lr_model),      \n",
    "])\n",
    "\n",
    "pipeline.fit(X_train, y_train)\n",
    "y_train_pred = pipeline.predict(X_train)\n",
    "y_pretest_pred = pipeline.predict(X_pretest)\n",
    "y_test_pred = pipeline.predict(X_test)\n",
    "train_f1_score = f1_score(y_train, y_train_pred)\n",
    "pretest_f1_score = f1_score(y_pretest, y_pretest_pred)\n",
    "test_f1_score = f1_score(y_test, y_test_pred)\n",
    "\n",
    "print(\"F1 score on training data:\", train_f1_score)\n",
    "print(\"F1 score on pretest data:\", pretest_f1_score)\n",
    "print(\"F1 score on test data:\", test_f1_score)"
   ]
  },
  {
   "cell_type": "code",
   "execution_count": 19,
   "metadata": {},
   "outputs": [
    {
     "name": "stdout",
     "output_type": "stream",
     "text": [
      "F1 score on training data: 0.8843505659936982\n",
      "F1 score on pretest data: 0.8771909324608553\n",
      "F1 score on test data: 0.8149814840856888\n"
     ]
    }
   ],
   "source": [
    "# Regularized logistic regression (elastic net)\n",
    "\n",
    "elastic_net_lr_model = LogisticRegression(penalty='elasticnet', solver='saga', l1_ratio=0.5)\n",
    "\n",
    "pipeline = Pipeline([\n",
    "    ('tfidf', TfidfVectorizer()),  \n",
    "    ('lr', elastic_net_lr_model),      \n",
    "])\n",
    "\n",
    "pipeline.fit(X_train, y_train)\n",
    "y_train_pred = pipeline.predict(X_train)\n",
    "y_pretest_pred = pipeline.predict(X_pretest)\n",
    "y_test_pred = pipeline.predict(X_test)\n",
    "train_f1_score = f1_score(y_train, y_train_pred)\n",
    "pretest_f1_score = f1_score(y_pretest, y_pretest_pred)\n",
    "test_f1_score = f1_score(y_test, y_test_pred)\n",
    "\n",
    "print(\"F1 score on training data:\", train_f1_score)\n",
    "print(\"F1 score on pretest data:\", pretest_f1_score)\n",
    "print(\"F1 score on test data:\", test_f1_score)"
   ]
  }
 ],
 "metadata": {
  "kernelspec": {
   "display_name": "Python 3",
   "language": "python",
   "name": "python3"
  },
  "language_info": {
   "codemirror_mode": {
    "name": "ipython",
    "version": 3
   },
   "file_extension": ".py",
   "mimetype": "text/x-python",
   "name": "python",
   "nbconvert_exporter": "python",
   "pygments_lexer": "ipython3",
   "version": "3.11.7"
  }
 },
 "nbformat": 4,
 "nbformat_minor": 2
}
