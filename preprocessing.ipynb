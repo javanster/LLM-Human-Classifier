{
 "cells": [
  {
   "cell_type": "code",
   "execution_count": 14,
   "metadata": {},
   "outputs": [
    {
     "name": "stdout",
     "output_type": "stream",
     "text": [
      "Test data size before removing rows identical to the training data: 73573\n",
      "Train and pretest data size: 158294\n",
      "Validation data size: 1679\n",
      "Test data size: 40202\n"
     ]
    }
   ],
   "source": [
    "import pandas as pd\n",
    "\n",
    "train_and_pretest_data = pd.read_csv('data/detect_ai.csv')\n",
    "valid_data = pd.read_csv('data/detect_ai_validation.csv')\n",
    "test_data = pd.read_csv('data/daigt_v4.csv')\n",
    "\n",
    "print(f\"Test data size before removing rows identical to the training data: {len(test_data)}\")\n",
    "\n",
    "train_and_pretest_data = train_and_pretest_data.drop_duplicates(subset='text')\n",
    "test_data = test_data[~test_data['text'].isin(train_and_pretest_data['text'])]\n",
    "\n",
    "print(f\"Train and pretest data size: {len(train_and_pretest_data)}\")\n",
    "print(f\"Validation data size: {len(valid_data)}\")\n",
    "print(f\"Test data size: {len(test_data)}\")\n"
   ]
  },
  {
   "cell_type": "code",
   "execution_count": 15,
   "metadata": {},
   "outputs": [
    {
     "name": "stdout",
     "output_type": "stream",
     "text": [
      "Train and pretest data columns: Index(['id', 'prompt_id', 'text', 'generated'], dtype='object')\n",
      "Validation data columns: Index(['id', 'prompt_id', 'text', 'generated'], dtype='object')\n",
      "Test data columns: Index(['text', 'label', 'prompt_name', 'source', 'RDizzl3_seven', 'model'], dtype='object')\n",
      "Test data[model] has the following values: ['human' 'mistral' 'llama' 'gpt' 'claude' 'falcon' 'palm' 'cohere' 'ada'\n",
      " 'babbage' 'curie' 'davinci']\n"
     ]
    }
   ],
   "source": [
    "# Print the name of the columns in the dfs\n",
    "print(f\"Train and pretest data columns: {train_and_pretest_data.columns}\")\n",
    "print(f\"Validation data columns: {valid_data.columns}\")\n",
    "print(f\"Test data columns: {test_data.columns}\")\n",
    "\n",
    "# print what values test_data[model]] has\n",
    "print(f\"Test data[model] has the following values: {test_data['model'].unique()}\")"
   ]
  },
  {
   "cell_type": "code",
   "execution_count": 16,
   "metadata": {},
   "outputs": [
    {
     "name": "stdout",
     "output_type": "stream",
     "text": [
      "Train and pretest data columns: Index(['text', 'generated'], dtype='object')\n",
      "Validation data columns: Index(['text', 'generated'], dtype='object')\n",
      "Test data columns: Index(['text', 'generated'], dtype='object')\n"
     ]
    },
    {
     "data": {
      "text/html": [
       "<div>\n",
       "<style scoped>\n",
       "    .dataframe tbody tr th:only-of-type {\n",
       "        vertical-align: middle;\n",
       "    }\n",
       "\n",
       "    .dataframe tbody tr th {\n",
       "        vertical-align: top;\n",
       "    }\n",
       "\n",
       "    .dataframe thead th {\n",
       "        text-align: right;\n",
       "    }\n",
       "</style>\n",
       "<table border=\"1\" class=\"dataframe\">\n",
       "  <thead>\n",
       "    <tr style=\"text-align: right;\">\n",
       "      <th></th>\n",
       "      <th>text</th>\n",
       "      <th>generated</th>\n",
       "    </tr>\n",
       "  </thead>\n",
       "  <tbody>\n",
       "    <tr>\n",
       "      <th>0</th>\n",
       "      <td>In recent years, there has been a growing move...</td>\n",
       "      <td>True</td>\n",
       "    </tr>\n",
       "    <tr>\n",
       "      <th>1</th>\n",
       "      <td>---\\nWhy not cars in our life\\n===============...</td>\n",
       "      <td>True</td>\n",
       "    </tr>\n",
       "    <tr>\n",
       "      <th>2</th>\n",
       "      <td>A car is considered by many a nessecity for ev...</td>\n",
       "      <td>True</td>\n",
       "    </tr>\n",
       "    <tr>\n",
       "      <th>3</th>\n",
       "      <td>H\\n\\nello fellow citezens , we are here to inf...</td>\n",
       "      <td>False</td>\n",
       "    </tr>\n",
       "    <tr>\n",
       "      <th>4</th>\n",
       "      <td>Have you ever known how if feels not being abl...</td>\n",
       "      <td>True</td>\n",
       "    </tr>\n",
       "  </tbody>\n",
       "</table>\n",
       "</div>"
      ],
      "text/plain": [
       "                                                text  generated\n",
       "0  In recent years, there has been a growing move...       True\n",
       "1  ---\\nWhy not cars in our life\\n===============...       True\n",
       "2  A car is considered by many a nessecity for ev...       True\n",
       "3  H\\n\\nello fellow citezens , we are here to inf...      False\n",
       "4  Have you ever known how if feels not being abl...       True"
      ]
     },
     "execution_count": 16,
     "metadata": {},
     "output_type": "execute_result"
    }
   ],
   "source": [
    "# Removing Irrelevant Data\n",
    "# and renaming the columns to be the same for all datasets\n",
    "# to ['text', 'generated'] as string, boolean\n",
    "\n",
    "train_and_pretest_data = train_and_pretest_data[['text', 'generated']]\n",
    "valid_data = valid_data[['text', 'generated']]\n",
    "\n",
    "# Convert 'generated' from 1 or 0 to True or False for both datasets\n",
    "train_and_pretest_data['generated'] = train_and_pretest_data['generated'].astype(bool)\n",
    "valid_data['generated'] = valid_data['generated'].astype(bool)\n",
    "\n",
    "# For the Test dataset\n",
    "test_data['generated'] = test_data['model'] != 'human'\n",
    "test_data = test_data[['text', 'generated']]\n",
    "\n",
    "print(f\"Train and pretest data columns: {train_and_pretest_data.columns}\")\n",
    "print(f\"Validation data columns: {valid_data.columns}\")\n",
    "print(f\"Test data columns: {test_data.columns}\")\n",
    "\n",
    "train_and_pretest_data.head()"
   ]
  },
  {
   "cell_type": "code",
   "execution_count": 3,
   "metadata": {},
   "outputs": [
    {
     "data": {
      "text/plain": [
       "\" # download these if it's your first time running the code\\nimport nltk\\nnltk.download('punkt')\\nnltk.download('wordnet')\\nnltk.download('stopwords')\\n\""
      ]
     },
     "execution_count": 3,
     "metadata": {},
     "output_type": "execute_result"
    }
   ],
   "source": [
    "\"\"\" # download these if it's your first time running the code\n",
    "import nltk\n",
    "nltk.download('punkt')\n",
    "nltk.download('wordnet')\n",
    "nltk.download('stopwords')\n",
    "\"\"\""
   ]
  },
  {
   "cell_type": "code",
   "execution_count": null,
   "metadata": {},
   "outputs": [],
   "source": [
    "# Tokenization\n"
   ]
  },
  {
   "cell_type": "code",
   "execution_count": null,
   "metadata": {},
   "outputs": [],
   "source": [
    "# Lowercasing"
   ]
  },
  {
   "cell_type": "code",
   "execution_count": null,
   "metadata": {},
   "outputs": [],
   "source": [
    "# Syntax and Grammar Patterns"
   ]
  },
  {
   "cell_type": "code",
   "execution_count": null,
   "metadata": {},
   "outputs": [],
   "source": [
    "# Text Complexity and Diversity\n",
    "\"\"\"Features like sentence length,\n",
    "vocabulary diversity, and complexity\n",
    "of ideas could also be indicative of\n",
    "the source of the text.\"\"\""
   ]
  },
  {
   "cell_type": "code",
   "execution_count": null,
   "metadata": {},
   "outputs": [],
   "source": []
  }
 ],
 "metadata": {
  "kernelspec": {
   "display_name": ".venv",
   "language": "python",
   "name": "python3"
  },
  "language_info": {
   "codemirror_mode": {
    "name": "ipython",
    "version": 3
   },
   "file_extension": ".py",
   "mimetype": "text/x-python",
   "name": "python",
   "nbconvert_exporter": "python",
   "pygments_lexer": "ipython3",
   "version": "3.12.2"
  }
 },
 "nbformat": 4,
 "nbformat_minor": 2
}
